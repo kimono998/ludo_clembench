{
 "cells": [
  {
   "cell_type": "code",
   "id": "initial_id",
   "metadata": {
    "collapsed": true,
    "ExecuteTime": {
     "end_time": "2024-07-17T14:51:10.694457Z",
     "start_time": "2024-07-17T14:51:00.829175Z"
    }
   },
   "source": [
    "import sys\n",
    "sys.path.append('..')\n",
    "\n",
    "from pathlib import Path\n",
    "\n",
    "import pandas as pd\n",
    "import seaborn as sns\n",
    "import matplotlib.pyplot as plt\n",
    "import numpy as np\n",
    "\n",
    "from matplotlib.colors import ListedColormap\n",
    "from matplotlib.patches import Polygon\n",
    "\n",
    "import evaluation.evalutils as utils\n",
    "from evaluation.makingtables import build_dispersion_table\n",
    "import clemgame.metrics as clemmetrics\n"
   ],
   "outputs": [
    {
     "name": "stdout",
     "output_type": "stream",
     "text": [
      "\n",
      "      _                _                     _     \n",
      "     | |              | |                   | |    \n",
      "  ___| | ___ _ __ ___ | |__   ___ _ __   ___| |__  \n",
      " / __| |/ _ \\ '_ ` _ \\| '_ \\ / _ \\ '_ \\ / __| '_ \\ \n",
      "| (__| |  __/ | | | | | |_) |  __/ | | | (__| | | |\n",
      " \\___|_|\\___|_| |_| |_|_.__/ \\___|_| |_|\\___|_| |_|\n",
      "\n"
     ]
    }
   ],
   "execution_count": 1
  },
  {
   "metadata": {
    "ExecuteTime": {
     "end_time": "2024-07-17T15:04:53.015773Z",
     "start_time": "2024-07-17T15:04:52.999822Z"
    }
   },
   "cell_type": "code",
   "source": "path = '/Users/dicaristic/PycharmProjects/clembench/results'",
   "id": "bc97341c67c40710",
   "outputs": [],
   "execution_count": 2
  },
  {
   "metadata": {
    "ExecuteTime": {
     "end_time": "2024-07-17T15:05:18.339713Z",
     "start_time": "2024-07-17T15:05:18.333694Z"
    }
   },
   "cell_type": "code",
   "source": "import os",
   "id": "e4888f3173d0fb80",
   "outputs": [],
   "execution_count": 3
  },
  {
   "metadata": {
    "ExecuteTime": {
     "end_time": "2024-07-17T15:05:32.593315Z",
     "start_time": "2024-07-17T15:05:32.564550Z"
    }
   },
   "cell_type": "code",
   "source": "files = os.listdir(path)",
   "id": "495306cc5557c277",
   "outputs": [],
   "execution_count": 4
  },
  {
   "metadata": {
    "ExecuteTime": {
     "end_time": "2024-07-17T15:05:33.678081Z",
     "start_time": "2024-07-17T15:05:33.647481Z"
    }
   },
   "cell_type": "code",
   "source": "files",
   "id": "73fe90bf13ac7610",
   "outputs": [
    {
     "data": {
      "text/plain": [
       "['gemma-2-9b-it-t0.0--programmatic-t0.0',\n",
       " 'Mixtral-8x22B-Instruct-v0.1-t0.0--programmatic-t0.0',\n",
       " 'Meta-Llama-3-8B-Instruct-t0.0--Meta-Llama-3-8B-Instruct-t0.0',\n",
       " 'gemma-2-27b-it-t0.0--programmatic-t0.0',\n",
       " '.DS_Store',\n",
       " 'gpt-3.5-turbo-1106-t0.0--gpt-3.5-turbo-1106-t0.0',\n",
       " 'gemma-2-27b-it-t0.0--gemma-2-27b-it-t0.0',\n",
       " 'Llama-2-70b-chat-hf-t0.0--meta-llama',\n",
       " 'gpt-4o-t0.0--gpt-4o-t0.0',\n",
       " 'Llama-3-70B-chat-hf-t0.0--Llama-3-70B-chat-hf-t0.0',\n",
       " 'Mixtral-8x7B-Instruct-v0.1-t0.0--Mixtral-8x7B-Instruct-v0.1-t0.0',\n",
       " 'Mixtral-8x7B-Instruct-v0.1-t0.0--programmatic-t0.0',\n",
       " 'Qwen2-72B-Instruct-t0.0--programmatic-t0.0',\n",
       " 'Llama-2-70b-chat-hf-t0.0--programmatic-t0.0',\n",
       " 'StripedHyena-Hessian-7B-t0.0--togethercomputer',\n",
       " 'raw.csv',\n",
       " 'Meta-Llama-3-8B-Instruct-t0.0--programmatic-t0.0',\n",
       " 'gpt-4o-t0.0--programmatic-t0.0',\n",
       " 'results.html',\n",
       " 'claude-3-sonnet-20240229-t0.0--claude-3-sonnet-20240229-t0.0',\n",
       " 'StripedHyena-Hessian-7B-t0.0--programmatic-t0.0',\n",
       " 'gpt-3.5-turbo-1106-t0.0--programmatic-t0.0',\n",
       " 'data_analysis.ipynb',\n",
       " 'gemma-2-9b-it-t0.0--gemma-2-9b-it-t0.0',\n",
       " 'Qwen2-72B-Instruct-t0.0--Qwen',\n",
       " 'Mixtral-8x22B-Instruct-v0.1-t0.0--Mixtral-8x22B-Instruct-v0.1-t0.0',\n",
       " 'results.csv',\n",
       " 'Llama-3-70B-chat-hf-t0.0--programmatic-t0.0']"
      ]
     },
     "execution_count": 5,
     "metadata": {},
     "output_type": "execute_result"
    }
   ],
   "execution_count": 5
  },
  {
   "metadata": {
    "ExecuteTime": {
     "end_time": "2024-07-17T15:06:30.371499Z",
     "start_time": "2024-07-17T15:06:30.364620Z"
    }
   },
   "cell_type": "code",
   "source": "names = [name.split('--')[0] for name in files]",
   "id": "95ef9e87e81a399b",
   "outputs": [],
   "execution_count": 8
  },
  {
   "metadata": {
    "ExecuteTime": {
     "end_time": "2024-07-17T15:06:34.866348Z",
     "start_time": "2024-07-17T15:06:34.852805Z"
    }
   },
   "cell_type": "code",
   "source": "names",
   "id": "b894884719d40276",
   "outputs": [
    {
     "data": {
      "text/plain": [
       "['gemma-2-9b-it-t0.0',\n",
       " 'Mixtral-8x22B-Instruct-v0.1-t0.0',\n",
       " 'Meta-Llama-3-8B-Instruct-t0.0',\n",
       " 'gemma-2-27b-it-t0.0',\n",
       " '.DS_Store',\n",
       " 'gpt-3.5-turbo-1106-t0.0',\n",
       " 'gemma-2-27b-it-t0.0',\n",
       " 'Llama-2-70b-chat-hf-t0.0',\n",
       " 'gpt-4o-t0.0',\n",
       " 'Llama-3-70B-chat-hf-t0.0',\n",
       " 'Mixtral-8x7B-Instruct-v0.1-t0.0',\n",
       " 'Mixtral-8x7B-Instruct-v0.1-t0.0',\n",
       " 'Qwen2-72B-Instruct-t0.0',\n",
       " 'Llama-2-70b-chat-hf-t0.0',\n",
       " 'StripedHyena-Hessian-7B-t0.0',\n",
       " 'raw.csv',\n",
       " 'Meta-Llama-3-8B-Instruct-t0.0',\n",
       " 'gpt-4o-t0.0',\n",
       " 'results.html',\n",
       " 'claude-3-sonnet-20240229-t0.0',\n",
       " 'StripedHyena-Hessian-7B-t0.0',\n",
       " 'gpt-3.5-turbo-1106-t0.0',\n",
       " 'data_analysis.ipynb',\n",
       " 'gemma-2-9b-it-t0.0',\n",
       " 'Qwen2-72B-Instruct-t0.0',\n",
       " 'Mixtral-8x22B-Instruct-v0.1-t0.0',\n",
       " 'results.csv',\n",
       " 'Llama-3-70B-chat-hf-t0.0']"
      ]
     },
     "execution_count": 9,
     "metadata": {},
     "output_type": "execute_result"
    }
   ],
   "execution_count": 9
  },
  {
   "metadata": {},
   "cell_type": "code",
   "outputs": [],
   "execution_count": null,
   "source": [
    "'gemma-2-9b-it-t0.0',\n",
    " 'Mixtral-8x22B-Instruct-v0.1-t0.0',\n",
    " 'Meta-Llama-3-8B-Instruct-t0.0',\n",
    " 'gemma-2-27b-it-t0.0',\n",
    " '.DS_Store',\n",
    " 'gpt-3.5-turbo-1106-t0.0',\n",
    " 'gemma-2-27b-it-t0.0',\n",
    " 'Llama-2-70b-chat-hf-t0.0',\n",
    " 'gpt-4o-t0.0',\n",
    " 'Llama-3-70B-chat-hf-t0.0',\n",
    " 'Mixtral-8x7B-Instruct-v0.1-t0.0',\n",
    " 'Mixtral-8x7B-Instruct-v0.1-t0.0',\n",
    " 'Qwen2-72B-Instruct-t0.0',\n",
    " 'Llama-2-70b-chat-hf-t0.0',\n",
    " 'StripedHyena-Hessian-7B-t0.0',\n",
    " 'Meta-Llama-3-8B-Instruct-t0.0',\n",
    " 'gpt-4o-t0.0',\n",
    " 'claude-3-sonnet-20240229-t0.0',\n",
    " 'StripedHyena-Hessian-7B-t0.0',\n",
    " 'gpt-3.5-turbo-1106-t0.0',\n",
    " 'data_analysis.ipynb',\n",
    " 'gemma-2-9b-it-t0.0',\n",
    " 'Qwen2-72B-Instruct-t0.0',\n",
    " 'Mixtral-8x22B-Instruct-v0.1-t0.0',\n",
    " 'Llama-3-70B-chat-hf-t0.0'"
   ],
   "id": "76867f2eac4e7e9"
  }
 ],
 "metadata": {
  "kernelspec": {
   "display_name": "Python 3",
   "language": "python",
   "name": "python3"
  },
  "language_info": {
   "codemirror_mode": {
    "name": "ipython",
    "version": 2
   },
   "file_extension": ".py",
   "mimetype": "text/x-python",
   "name": "python",
   "nbconvert_exporter": "python",
   "pygments_lexer": "ipython2",
   "version": "2.7.6"
  }
 },
 "nbformat": 4,
 "nbformat_minor": 5
}
